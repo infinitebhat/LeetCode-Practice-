{
  "nbformat": 4,
  "nbformat_minor": 0,
  "metadata": {
    "colab": {
      "name": "Untitled2.ipynb",
      "provenance": [],
      "authorship_tag": "ABX9TyOfxOaszJHMTE+i0vIyNBKn"
    },
    "kernelspec": {
      "name": "python3",
      "display_name": "Python 3"
    }
  },
  "cells": [
    {
      "cell_type": "markdown",
      "metadata": {
        "id": "HowJskODo1Dh"
      },
      "source": [
        "Using the data in 'WHO-COVID-19-global-data.csv', learn a polynomial linear regression model that predicts the cumulative number of cases of COVID-19 in India for next few days."
      ]
    },
    {
      "cell_type": "code",
      "metadata": {
        "id": "tzmX_4sQotRd"
      },
      "source": [
        "import pandas as pd\n",
        "import numpy as np\n",
        "import matplotlib.pyplot as plt"
      ],
      "execution_count": 1,
      "outputs": []
    },
    {
      "cell_type": "code",
      "metadata": {
        "id": "19LfOglXpzMA",
        "outputId": "e701102c-fe6b-4456-bdbe-1411092c6867",
        "colab": {
          "base_uri": "https://localhost:8080/",
          "height": 224
        }
      },
      "source": [
        "df_WHO = pd.read_csv('https://covid19.who.int/WHO-COVID-19-global-data.csv')\n",
        "df_WHO.head()"
      ],
      "execution_count": 3,
      "outputs": [
        {
          "output_type": "execute_result",
          "data": {
            "text/html": [
              "<div>\n",
              "<style scoped>\n",
              "    .dataframe tbody tr th:only-of-type {\n",
              "        vertical-align: middle;\n",
              "    }\n",
              "\n",
              "    .dataframe tbody tr th {\n",
              "        vertical-align: top;\n",
              "    }\n",
              "\n",
              "    .dataframe thead th {\n",
              "        text-align: right;\n",
              "    }\n",
              "</style>\n",
              "<table border=\"1\" class=\"dataframe\">\n",
              "  <thead>\n",
              "    <tr style=\"text-align: right;\">\n",
              "      <th></th>\n",
              "      <th>Date_reported</th>\n",
              "      <th>Country_code</th>\n",
              "      <th>Country</th>\n",
              "      <th>WHO_region</th>\n",
              "      <th>New_cases</th>\n",
              "      <th>Cumulative_cases</th>\n",
              "      <th>New_deaths</th>\n",
              "      <th>Cumulative_deaths</th>\n",
              "    </tr>\n",
              "  </thead>\n",
              "  <tbody>\n",
              "    <tr>\n",
              "      <th>0</th>\n",
              "      <td>2020-01-03</td>\n",
              "      <td>AF</td>\n",
              "      <td>Afghanistan</td>\n",
              "      <td>EMRO</td>\n",
              "      <td>0</td>\n",
              "      <td>0</td>\n",
              "      <td>0</td>\n",
              "      <td>0</td>\n",
              "    </tr>\n",
              "    <tr>\n",
              "      <th>1</th>\n",
              "      <td>2020-01-04</td>\n",
              "      <td>AF</td>\n",
              "      <td>Afghanistan</td>\n",
              "      <td>EMRO</td>\n",
              "      <td>0</td>\n",
              "      <td>0</td>\n",
              "      <td>0</td>\n",
              "      <td>0</td>\n",
              "    </tr>\n",
              "    <tr>\n",
              "      <th>2</th>\n",
              "      <td>2020-01-05</td>\n",
              "      <td>AF</td>\n",
              "      <td>Afghanistan</td>\n",
              "      <td>EMRO</td>\n",
              "      <td>0</td>\n",
              "      <td>0</td>\n",
              "      <td>0</td>\n",
              "      <td>0</td>\n",
              "    </tr>\n",
              "    <tr>\n",
              "      <th>3</th>\n",
              "      <td>2020-01-06</td>\n",
              "      <td>AF</td>\n",
              "      <td>Afghanistan</td>\n",
              "      <td>EMRO</td>\n",
              "      <td>0</td>\n",
              "      <td>0</td>\n",
              "      <td>0</td>\n",
              "      <td>0</td>\n",
              "    </tr>\n",
              "    <tr>\n",
              "      <th>4</th>\n",
              "      <td>2020-01-07</td>\n",
              "      <td>AF</td>\n",
              "      <td>Afghanistan</td>\n",
              "      <td>EMRO</td>\n",
              "      <td>0</td>\n",
              "      <td>0</td>\n",
              "      <td>0</td>\n",
              "      <td>0</td>\n",
              "    </tr>\n",
              "  </tbody>\n",
              "</table>\n",
              "</div>"
            ],
            "text/plain": [
              "  Date_reported  Country_code  ...  New_deaths  Cumulative_deaths\n",
              "0    2020-01-03            AF  ...           0                  0\n",
              "1    2020-01-04            AF  ...           0                  0\n",
              "2    2020-01-05            AF  ...           0                  0\n",
              "3    2020-01-06            AF  ...           0                  0\n",
              "4    2020-01-07            AF  ...           0                  0\n",
              "\n",
              "[5 rows x 8 columns]"
            ]
          },
          "metadata": {
            "tags": []
          },
          "execution_count": 3
        }
      ]
    },
    {
      "cell_type": "code",
      "metadata": {
        "id": "0zaksA7Yp9KD"
      },
      "source": [
        "df_India = df_WHO[df_WHO[' Country']== 'India']"
      ],
      "execution_count": 4,
      "outputs": []
    },
    {
      "cell_type": "code",
      "metadata": {
        "id": "7V-_2ppPqLOi",
        "outputId": "0014963b-bca1-412a-aaa0-a6e8936f4f30",
        "colab": {
          "base_uri": "https://localhost:8080/",
          "height": 224
        }
      },
      "source": [
        "df_India.head()"
      ],
      "execution_count": 5,
      "outputs": [
        {
          "output_type": "execute_result",
          "data": {
            "text/html": [
              "<div>\n",
              "<style scoped>\n",
              "    .dataframe tbody tr th:only-of-type {\n",
              "        vertical-align: middle;\n",
              "    }\n",
              "\n",
              "    .dataframe tbody tr th {\n",
              "        vertical-align: top;\n",
              "    }\n",
              "\n",
              "    .dataframe thead th {\n",
              "        text-align: right;\n",
              "    }\n",
              "</style>\n",
              "<table border=\"1\" class=\"dataframe\">\n",
              "  <thead>\n",
              "    <tr style=\"text-align: right;\">\n",
              "      <th></th>\n",
              "      <th>Date_reported</th>\n",
              "      <th>Country_code</th>\n",
              "      <th>Country</th>\n",
              "      <th>WHO_region</th>\n",
              "      <th>New_cases</th>\n",
              "      <th>Cumulative_cases</th>\n",
              "      <th>New_deaths</th>\n",
              "      <th>Cumulative_deaths</th>\n",
              "    </tr>\n",
              "  </thead>\n",
              "  <tbody>\n",
              "    <tr>\n",
              "      <th>28608</th>\n",
              "      <td>2020-01-03</td>\n",
              "      <td>IN</td>\n",
              "      <td>India</td>\n",
              "      <td>SEARO</td>\n",
              "      <td>0</td>\n",
              "      <td>0</td>\n",
              "      <td>0</td>\n",
              "      <td>0</td>\n",
              "    </tr>\n",
              "    <tr>\n",
              "      <th>28609</th>\n",
              "      <td>2020-01-04</td>\n",
              "      <td>IN</td>\n",
              "      <td>India</td>\n",
              "      <td>SEARO</td>\n",
              "      <td>0</td>\n",
              "      <td>0</td>\n",
              "      <td>0</td>\n",
              "      <td>0</td>\n",
              "    </tr>\n",
              "    <tr>\n",
              "      <th>28610</th>\n",
              "      <td>2020-01-05</td>\n",
              "      <td>IN</td>\n",
              "      <td>India</td>\n",
              "      <td>SEARO</td>\n",
              "      <td>0</td>\n",
              "      <td>0</td>\n",
              "      <td>0</td>\n",
              "      <td>0</td>\n",
              "    </tr>\n",
              "    <tr>\n",
              "      <th>28611</th>\n",
              "      <td>2020-01-06</td>\n",
              "      <td>IN</td>\n",
              "      <td>India</td>\n",
              "      <td>SEARO</td>\n",
              "      <td>0</td>\n",
              "      <td>0</td>\n",
              "      <td>0</td>\n",
              "      <td>0</td>\n",
              "    </tr>\n",
              "    <tr>\n",
              "      <th>28612</th>\n",
              "      <td>2020-01-07</td>\n",
              "      <td>IN</td>\n",
              "      <td>India</td>\n",
              "      <td>SEARO</td>\n",
              "      <td>0</td>\n",
              "      <td>0</td>\n",
              "      <td>0</td>\n",
              "      <td>0</td>\n",
              "    </tr>\n",
              "  </tbody>\n",
              "</table>\n",
              "</div>"
            ],
            "text/plain": [
              "      Date_reported  Country_code  ...  New_deaths  Cumulative_deaths\n",
              "28608    2020-01-03            IN  ...           0                  0\n",
              "28609    2020-01-04            IN  ...           0                  0\n",
              "28610    2020-01-05            IN  ...           0                  0\n",
              "28611    2020-01-06            IN  ...           0                  0\n",
              "28612    2020-01-07            IN  ...           0                  0\n",
              "\n",
              "[5 rows x 8 columns]"
            ]
          },
          "metadata": {
            "tags": []
          },
          "execution_count": 5
        }
      ]
    },
    {
      "cell_type": "code",
      "metadata": {
        "id": "VlfSDeFbqNbn"
      },
      "source": [
        "def PolynomialRegression(x,t, M):\n",
        "  X= np.array([x**m for m in range(M+1)]).T\n",
        "  w=np.linalg.inv(X.T@X)@X.T@t\n",
        "  y= X@w\n",
        "  error= t-y\n",
        "  return w,y, error"
      ],
      "execution_count": 6,
      "outputs": []
    },
    {
      "cell_type": "code",
      "metadata": {
        "id": "5XOSxYmVq8c-"
      },
      "source": [
        "def PolynomialRegression_test(x,M,w):\n",
        "  X=np.array([x**m for m in range(M+1)]).T\n",
        "  y=X@w\n",
        "  return y"
      ],
      "execution_count": 7,
      "outputs": []
    },
    {
      "cell_type": "code",
      "metadata": {
        "id": "vgBnEi5RwUJF",
        "outputId": "4e606a89-1812-4aa2-c3fe-2eb2c1cea128",
        "colab": {
          "base_uri": "https://localhost:8080/",
          "height": 712
        }
      },
      "source": [
        "deaths = df_India[' Cumulative_deaths'].to_numpy()\n",
        "days = np.array(range(1, len(df_India)+1))\n",
        "\n",
        "plt.figure(figsize=(10,12))\n",
        "plt.scatter(days, deaths)\n",
        "plt.xlabel('Timeline')\n",
        "plt.ylabel('COVID-19 Cumulative death number in India');"
      ],
      "execution_count": 10,
      "outputs": [
        {
          "output_type": "display_data",
          "data": {
            "image/png": "[encoded data removed]",
            "text/plain": [
              "<Figure size 720x864 with 1 Axes>"
            ]
          },
          "metadata": {
            "tags": [],
            "needs_background": "light"
          }
        }
      ]
    },
    {
      "cell_type": "code",
      "metadata": {
        "id": "9atwOGFnwyIO",
        "outputId": "38a6f86f-0d73-4995-e83f-4f54fc6f3bc7",
        "colab": {
          "base_uri": "https://localhost:8080/",
          "height": 712
        }
      },
      "source": [
        "M=2\n",
        "w, y, error=PolynomialRegression(days, deaths, M);\n",
        "\n",
        "plt.figure(figsize=(10,12))\n",
        "plt.scatter(days, deaths, label='Data')\n",
        "plt.xlabel('Timeline in days starting 01/20/2020')\n",
        "plt.ylabel('COVID-19 Cumulative death number in India')\n",
        "plt.legend();"
      ],
      "execution_count": 12,
      "outputs": [
        {
          "output_type": "display_data",
          "data": {
            "image/png": "[encoded data removed]",
            "text/plain": [
              "<Figure size 720x864 with 1 Axes>"
            ]
          },
          "metadata": {
            "tags": [],
            "needs_background": "light"
          }
        }
      ]
    },
    {
      "cell_type": "markdown",
      "metadata": {
        "id": "hDTematvyNq_"
      },
      "source": [
        "Considering last 30days:"
      ]
    },
    {
      "cell_type": "code",
      "metadata": {
        "id": "QjEFSRA8yEiH",
        "outputId": "61114c14-6ff1-4192-8107-584578f26310",
        "colab": {
          "base_uri": "https://localhost:8080/",
          "height": 712
        }
      },
      "source": [
        "days30 =np.array(range(1,31))\n",
        "deaths30=deaths[-30:]\n",
        "\n",
        "plt.figure(figsize=(10,12))\n",
        "plt.scatter(days30, deaths30)\n",
        "plt.xlabel('Timeline(last 30 days)')\n",
        "plt.ylabel('Cumulative Deaths in last 30 days');"
      ],
      "execution_count": 17,
      "outputs": [
        {
          "output_type": "display_data",
          "data": {
            "image/png": "[encoded data removed]",
            "text/plain": [
              "<Figure size 720x864 with 1 Axes>"
            ]
          },
          "metadata": {
            "tags": [],
            "needs_background": "light"
          }
        }
      ]
    },
    {
      "cell_type": "markdown",
      "metadata": {
        "id": "8VfunXaVzs9H"
      },
      "source": [
        "Fit a regression model:"
      ]
    },
    {
      "cell_type": "code",
      "metadata": {
        "id": "T8mzVUHYylam"
      },
      "source": [
        "M=2\n",
        "w30, y30, error = PolynomialRegression(days30, deaths30, M);\n"
      ],
      "execution_count": 16,
      "outputs": []
    },
    {
      "cell_type": "code",
      "metadata": {
        "id": "5k_Q2qqMz5SY",
        "outputId": "f064f41d-3911-45a4-bf7f-ca798e4c10cd",
        "colab": {
          "base_uri": "https://localhost:8080/",
          "height": 712
        }
      },
      "source": [
        "plt.figure(figsize=(10,12))\n",
        "plt.scatter(days30, deaths30, label='WHO Data')\n",
        "plt.plot(days30, y30, 'r', label='Polynomial estimation')\n",
        "plt.xlabel('Timeline (last 30 days)')\n",
        "plt.ylabel('COVID-19 related deaths in cumulative sum')\n",
        "plt.legend();"
      ],
      "execution_count": 22,
      "outputs": [
        {
          "output_type": "display_data",
          "data": {
            "image/png": "[encoded data removed]",
            "text/plain": [
              "<Figure size 720x864 with 1 Axes>"
            ]
          },
          "metadata": {
            "tags": [],
            "needs_background": "light"
          }
        }
      ]
    },
    {
      "cell_type": "markdown",
      "metadata": {
        "id": "sanw74_21Epa"
      },
      "source": [
        "Now, prediction over next 2 days:"
      ]
    },
    {
      "cell_type": "code",
      "metadata": {
        "id": "lEK93vmA0WQE"
      },
      "source": [
        "days_test = np.array([31,32])"
      ],
      "execution_count": 24,
      "outputs": []
    },
    {
      "cell_type": "code",
      "metadata": {
        "id": "2OvgnBnr07bl",
        "outputId": "49d31350-7b92-428f-d85c-356eef05611c",
        "colab": {
          "base_uri": "https://localhost:8080/",
          "height": 34
        }
      },
      "source": [
        "PolynomialRegression_test(days_test, M, w30)"
      ],
      "execution_count": 25,
      "outputs": [
        {
          "output_type": "execute_result",
          "data": {
            "text/plain": [
              "array([119704.07044335, 120270.7396949 ])"
            ]
          },
          "metadata": {
            "tags": []
          },
          "execution_count": 25
        }
      ]
    },
    {
      "cell_type": "markdown",
      "metadata": {
        "id": "y28vcoD21qSF"
      },
      "source": [
        "The predicted cumulative total deaths for October 27th, 28th is approximately 119704 and 120271 respectively."
      ]
    },
    {
      "cell_type": "code",
      "metadata": {
        "id": "NleF24671PBL",
        "outputId": "ce59df2b-ee00-4d3d-d8fa-001002a9129b",
        "colab": {
          "base_uri": "https://localhost:8080/",
          "height": 34
        }
      },
      "source": [
        "PolynomialRegression_test(days_test, M, w30)-deaths30[-1]"
      ],
      "execution_count": 26,
      "outputs": [
        {
          "output_type": "execute_result",
          "data": {
            "text/plain": [
              "array([ 690.07044335, 1256.7396949 ])"
            ]
          },
          "metadata": {
            "tags": []
          },
          "execution_count": 26
        }
      ]
    },
    {
      "cell_type": "markdown",
      "metadata": {
        "id": "eS9FPYcE2LO9"
      },
      "source": [
        "This above number 690 corresponds to predicted deaths for 27th October. The difference of 1257 from 690 ~ 567 is approximate predicted death number for 28th October."
      ]
    },
    {
      "cell_type": "markdown",
      "metadata": {
        "id": "YadEoKQD2eEP"
      },
      "source": [
        "This Notebook prediction is based on simple regression and thus error is expected to be high. To get more realistic numbers, we can use better forecasting algorithms where we can consider more factors into consideration.    "
      ]
    },
    {
      "cell_type": "code",
      "metadata": {
        "id": "3WgvTJrq3IUf"
      },
      "source": [
        ""
      ],
      "execution_count": null,
      "outputs": []
    }
  ]
}