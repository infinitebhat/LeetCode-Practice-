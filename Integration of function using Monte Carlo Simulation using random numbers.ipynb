{
 "cells": [
  {
   "cell_type": "markdown",
   "metadata": {},
   "source": [
    "# Using Monte-Carlo simulation for computing the integral of function as given below:\n",
    "\n",
    "## Function: F(x) = ( 4*x^3 + 3*x^2 +2*x +1 )\n",
    "## Integration range is (3,8)\n",
    "## Integration value = 4560 \n",
    "\n",
    "Reference: Article by Patrick Hanbury\n"
   ]
  },
  {
   "cell_type": "code",
   "execution_count": 28,
   "metadata": {},
   "outputs": [],
   "source": [
    "import numpy as np\n",
    "import math\n",
    "import random\n",
    "from matplotlib import pyplot as plt"
   ]
  },
  {
   "cell_type": "markdown",
   "metadata": {},
   "source": [
    "First, define a function which gives us random number from a uniform distribution between the two input values range of integral min_value, max_value"
   ]
  },
  {
   "cell_type": "code",
   "execution_count": 93,
   "metadata": {},
   "outputs": [],
   "source": [
    "def get_random_number(lower_bound, upper_bound):  \n",
    "    range = upper_bound - lower_bound \n",
    "    choice = random.random() \n",
    "    return lower_bound + range * choice"
   ]
  },
  {
   "cell_type": "markdown",
   "metadata": {},
   "source": [
    "Now define the function we want to integrate over f(x)"
   ]
  },
  {
   "cell_type": "code",
   "execution_count": 94,
   "metadata": {},
   "outputs": [],
   "source": [
    "def F(x):\n",
    "    return (4*x**3 + 3*x**2 + 2*x**1 + 1)"
   ]
  },
  {
   "cell_type": "markdown",
   "metadata": {},
   "source": [
    "Monte Carlo Simulation Function"
   ]
  },
  {
   "cell_type": "code",
   "execution_count": 103,
   "metadata": {},
   "outputs": [],
   "source": [
    "def monte_carlo_sim(sample_size):\n",
    "    \n",
    "    lower_bound = 3 \n",
    "    upper_bound = 8\n",
    "    \n",
    "    int_of_fn=0\n",
    "    \n",
    "    for i in range(sample_size):\n",
    "        x=get_random_number(lower_bound,upper_bound)\n",
    "        int_of_fn += F(x)\n",
    "        \n",
    "    return (upper_bound - lower_bound)/float(sample_size) * int_of_fn"
   ]
  },
  {
   "cell_type": "markdown",
   "metadata": {},
   "source": [
    "Return Monte Carlo Simulation with Sample Size"
   ]
  },
  {
   "cell_type": "code",
   "execution_count": 102,
   "metadata": {},
   "outputs": [
    {
     "name": "stdout",
     "output_type": "stream",
     "text": [
      "Monte Carlo Approximation of F(x): 4560.961054452034\n"
     ]
    }
   ],
   "source": [
    "sample_size =10000\n",
    "Approx_Integration_Value= monte_carlo_sim(mc_sample_size)\n",
    "print(f\"Monte Carlo Approximation of F(x): {Approx_Integration_Value}\")"
   ]
  }
 ],
 "metadata": {
  "kernelspec": {
   "display_name": "Python 3",
   "language": "python",
   "name": "python3"
  },
  "language_info": {
   "codemirror_mode": {
    "name": "ipython",
    "version": 3
   },
   "file_extension": ".py",
   "mimetype": "text/x-python",
   "name": "python",
   "nbconvert_exporter": "python",
   "pygments_lexer": "ipython3",
   "version": "3.7.4"
  }
 },
 "nbformat": 4,
 "nbformat_minor": 2
}
